{
 "cells": [
  {
   "cell_type": "markdown",
   "id": "dff626f2",
   "metadata": {},
   "source": [
    "## Supplemental Methods of CoSpred: Procedure of using DIANN with predicted spectrum library\n",
    "\n",
    "**Authors:**\n",
    "- Liang Xue<sup>1*</sup>, Shivani Tiwary<sup>2</sup>, Mykola Bordyuh<sup>1</sup>, Robert Stanton<sup>1*</sup>\n",
    "\n",
    "**Affiliations:**\n",
    "1. Machine Learning and Computational Sciences, Pfizer Worldwide R&D, Cambridge, MA, USA\n",
    "2. Machine Learning and Computational Sciences, Pfizer Worldwide R&D, Berlin, Germany\n",
    "\n",
    "**Correspondence:**\n",
    "- Email: [liang.xue@pfizer.com](mailto:liang.xue@pfizer.com) or [robert.stanton@pfizer.com](mailto:robert.stanton@pfizer.com)"
   ]
  },
  {
   "cell_type": "markdown",
   "id": "caa3af10",
   "metadata": {},
   "source": [
    "### 1. Create a virtual environment and install packages"
   ]
  },
  {
   "cell_type": "code",
   "execution_count": null,
   "id": "e1db1d63",
   "metadata": {},
   "outputs": [],
   "source": [
    "!conda env create -n cospred_cuda12_gpu_py39 -f conf/requirements_cospred_cuda12_gpu_py39.yml"
   ]
  },
  {
   "cell_type": "markdown",
   "id": "0d222a3a",
   "metadata": {},
   "source": [
    "### 2. Get the best model or saved model in folder `model_spectra`. Run prediction.py to get the msp format output"
   ]
  },
  {
   "cell_type": "code",
   "execution_count": null,
   "id": "6c4371af",
   "metadata": {},
   "outputs": [],
   "source": [
    "!python prediction.py -c     # transformer based b/y ion prediction"
   ]
  },
  {
   "cell_type": "markdown",
   "id": "156e7e83",
   "metadata": {},
   "source": [
    "### 3. Assign the spectral library in DIANN software\n",
    "![DIANN]('./diann.png')\n",
    "\n",
    "### 4. For other settings\n",
    "In DIANN software, import rawfiles in mzML format, and press Run. \n"
   ]
  }
 ],
 "metadata": {
  "kernelspec": {
   "display_name": "cospred_cpu_py39",
   "language": "python",
   "name": "python3"
  },
  "language_info": {
   "codemirror_mode": {
    "name": "ipython",
    "version": 3
   },
   "file_extension": ".py",
   "mimetype": "text/x-python",
   "name": "python",
   "nbconvert_exporter": "python",
   "pygments_lexer": "ipython3",
   "version": "3.9.18"
  }
 },
 "nbformat": 4,
 "nbformat_minor": 5
}
